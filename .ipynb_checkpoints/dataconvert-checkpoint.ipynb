{
 "cells": [
  {
   "cell_type": "code",
   "execution_count": 13,
   "metadata": {},
   "outputs": [],
   "source": [
    "import numpy as np\n",
    "import pandas as pd"
   ]
  },
  {
   "cell_type": "code",
   "execution_count": 55,
   "metadata": {},
   "outputs": [],
   "source": [
    "# input field\n",
    "# question structures\n",
    "defdims = [{'from':'What is the time scale of curiosity?',\n",
    "               'to':['seconds/within trial','minutes/within trial', 'lifelong/personality trait']},#link list. todo: make it a type of object and add citations\n",
    "           {'from':'What is the structure of knowledges being seeken for?',\n",
    "               'to':['few connections/busybody','closely connected/hunter']},\n",
    "           {'from':'What is the internal state computation that increases motivation?',\n",
    "               'to':['learning progress','surprise','positive prediction error']}]\n",
    "defobjs = [{'operdef':'self-reported curiosity level','paper':[],'dimlinks':['seconds/within trial','few connections/busybody']},\n",
    "           {'operdef':'willingness to stick to the current game','dimlinks':['minutes/within trial','few connections/busybody'],'paper':['Bonawitz et al']},\n",
    "           {'operdef':'KL divergence of belief state','dimlinks':['surprise'],'paper':[]}]\n"
   ]
  },
  {
   "cell_type": "code",
   "execution_count": 60,
   "metadata": {},
   "outputs": [],
   "source": [
    "# convert to json for zoomcharts\n",
    "allnodes = []\n",
    "# add root note\n",
    "rid='qd%d'%np.random.randint(100000)\n",
    "allnodes.append({'label':'What is curiosity?','id':rid})\n",
    "alllinks = []\n",
    "\n",
    "\n",
    "for dim in defdims:\n",
    "    # create nodes\n",
    "    fid = 'qd%d'%np.random.randint(100000)\n",
    "    fnode = {'label':dim['from'],'id':fid} #todo: add number repetition check\n",
    "    allnodes.append(fnode)\n",
    "    # add link from the rootnode\n",
    "    alllinks.append({'label':'specification','id':'ld%d'%np.random.randint(100000),'from':rid,'to':fid})\n",
    "    for tond in dim['to']:\n",
    "        tid = 'a%d'%np.random.randint(100000)\n",
    "        tonode = {'label':tond,'id':tid}\n",
    "        allnodes.append(tonode)\n",
    "        # add links\n",
    "        alllinks.append({'label':'answer','id':'ld%d'%np.random.randint(100000),'from':fid,'to':tid})\n",
    "nodedf = pd.DataFrame(allnodes)"
   ]
  },
  {
   "cell_type": "code",
   "execution_count": 61,
   "metadata": {},
   "outputs": [],
   "source": [
    "\n",
    "for defob in defobjs:\n",
    "    defid = 'ado%d'%np.random.randint(100000)\n",
    "    allnodes.append({'label':defob['operdef'],'id':defid,'paper':defob['paper']})\n",
    "    for kl in defob['dimlinks']:\n",
    "        alllinks.append({'label':'operational_def','id':'lod%d'%np.random.randint(100000),\n",
    "                        'from':nodedf['id'].iloc[nodedf.index[nodedf['label']==kl][0]],\n",
    "                        'to':defid})\n",
    "\n"
   ]
  },
  {
   "cell_type": "code",
   "execution_count": 64,
   "metadata": {},
   "outputs": [],
   "source": [
    "# styling\n",
    "rootcolor = 'orange'\n",
    "anscolor = 'white'"
   ]
  },
  {
   "cell_type": "code",
   "execution_count": 65,
   "metadata": {},
   "outputs": [
    {
     "name": "stdout",
     "output_type": "stream",
     "text": [
      "{\"id\":\"qd39020\",\"loaded\":true,\"style\":{\"label\":\"What is curiosity?\",\"fillColor\":orange}},\n",
      "{\"id\":\"qd68905\",\"loaded\":true,\"style\":{\"label\":\"What is the time scale of curiosity?\"}},\n",
      "{\"id\":\"a60280\",\"loaded\":true,\"style\":{\"label\":\"seconds/within trial\"}},\n",
      "{\"id\":\"a79023\",\"loaded\":true,\"style\":{\"label\":\"minutes/within trial\"}},\n",
      "{\"id\":\"a90009\",\"loaded\":true,\"style\":{\"label\":\"lifelong/personality trait\"}},\n",
      "{\"id\":\"qd75943\",\"loaded\":true,\"style\":{\"label\":\"What is the structure of knowledges being seeken for?\"}},\n",
      "{\"id\":\"a67943\",\"loaded\":true,\"style\":{\"label\":\"few connections/busybody\"}},\n",
      "{\"id\":\"a4582\",\"loaded\":true,\"style\":{\"label\":\"closely connected/hunter\"}},\n",
      "{\"id\":\"qd42158\",\"loaded\":true,\"style\":{\"label\":\"What is the internal state computation that increases motivation?\"}},\n",
      "{\"id\":\"a50961\",\"loaded\":true,\"style\":{\"label\":\"learning progress\"}},\n",
      "{\"id\":\"a45237\",\"loaded\":true,\"style\":{\"label\":\"surprise\"}},\n",
      "{\"id\":\"a56473\",\"loaded\":true,\"style\":{\"label\":\"positive prediction error\"}},\n",
      "{\"id\":\"ado2935\",\"loaded\":true,\"style\":{\"label\":\"self-reported curiosity level\"}},\n",
      "{\"id\":\"ado9435\",\"loaded\":true,\"style\":{\"label\":\"willingness to stick to the current game\"}},\n",
      "{\"id\":\"ado23948\",\"loaded\":true,\"style\":{\"label\":\"KL divergence of belief state\"}},\n"
     ]
    }
   ],
   "source": [
    "# translate to json\n",
    "for node in allnodes:\n",
    "    if node['id']==rid:\n",
    "        print('{\"id\":\"%s\",\"loaded\":true,\"style\":{\"label\":\"%s\",\"fillColor\":\"%s\"}},'%(node['id'],node['label'],rootcolor))\n",
    "    elif node['id'][0]=='a':\n",
    "        print('{\"id\":\"%s\",\"loaded\":true,\"style\":{\"label\":\"%s\",\"fillColor\":\"%s\"}},'%(node['id'],node['label'],anscolor))\n",
    "    else:\n",
    "        print('{\"id\":\"%s\",\"loaded\":true,\"style\":{\"label\":\"%s\"}},'%(node['id'],node['label']))\n",
    "    "
   ]
  },
  {
   "cell_type": "code",
   "execution_count": 66,
   "metadata": {},
   "outputs": [
    {
     "name": "stdout",
     "output_type": "stream",
     "text": [
      "{\"id\":\"ld30565\",\"from\":\"qd39020\",\"to\":\"qd68905\",\"type\":\"specification\"},\n",
      "{\"id\":\"ld52809\",\"from\":\"qd68905\",\"to\":\"a60280\",\"type\":\"answer\"},\n",
      "{\"id\":\"ld13498\",\"from\":\"qd68905\",\"to\":\"a79023\",\"type\":\"answer\"},\n",
      "{\"id\":\"ld16370\",\"from\":\"qd68905\",\"to\":\"a90009\",\"type\":\"answer\"},\n",
      "{\"id\":\"ld88651\",\"from\":\"qd39020\",\"to\":\"qd75943\",\"type\":\"specification\"},\n",
      "{\"id\":\"ld3583\",\"from\":\"qd75943\",\"to\":\"a67943\",\"type\":\"answer\"},\n",
      "{\"id\":\"ld55037\",\"from\":\"qd75943\",\"to\":\"a4582\",\"type\":\"answer\"},\n",
      "{\"id\":\"ld65812\",\"from\":\"qd39020\",\"to\":\"qd42158\",\"type\":\"specification\"},\n",
      "{\"id\":\"ld72598\",\"from\":\"qd42158\",\"to\":\"a50961\",\"type\":\"answer\"},\n",
      "{\"id\":\"ld3121\",\"from\":\"qd42158\",\"to\":\"a45237\",\"type\":\"answer\"},\n",
      "{\"id\":\"ld31591\",\"from\":\"qd42158\",\"to\":\"a56473\",\"type\":\"answer\"},\n",
      "{\"id\":\"lod94291\",\"from\":\"a60280\",\"to\":\"ado2935\",\"type\":\"operational_def\"},\n",
      "{\"id\":\"lod58238\",\"from\":\"a67943\",\"to\":\"ado2935\",\"type\":\"operational_def\"},\n",
      "{\"id\":\"lod53927\",\"from\":\"a79023\",\"to\":\"ado9435\",\"type\":\"operational_def\"},\n",
      "{\"id\":\"lod53111\",\"from\":\"a67943\",\"to\":\"ado9435\",\"type\":\"operational_def\"},\n",
      "{\"id\":\"lod114\",\"from\":\"a45237\",\"to\":\"ado23948\",\"type\":\"operational_def\"},\n"
     ]
    }
   ],
   "source": [
    "for link in alllinks:\n",
    "    print('{\"id\":\"%s\",\"from\":\"%s\",\"to\":\"%s\",\"type\":\"%s\"},'%(link['id'],link['from'],link['to'],link['label']))"
   ]
  },
  {
   "cell_type": "code",
   "execution_count": null,
   "metadata": {},
   "outputs": [],
   "source": []
  }
 ],
 "metadata": {
  "kernelspec": {
   "display_name": "Python [Root]",
   "language": "python",
   "name": "Python [Root]"
  },
  "language_info": {
   "codemirror_mode": {
    "name": "ipython",
    "version": 3
   },
   "file_extension": ".py",
   "mimetype": "text/x-python",
   "name": "python",
   "nbconvert_exporter": "python",
   "pygments_lexer": "ipython3",
   "version": "3.5.2"
  }
 },
 "nbformat": 4,
 "nbformat_minor": 2
}
